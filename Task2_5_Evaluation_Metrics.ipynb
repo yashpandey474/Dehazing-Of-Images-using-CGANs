{
  "nbformat": 4,
  "nbformat_minor": 0,
  "metadata": {
    "colab": {
      "provenance": [],
      "authorship_tag": "ABX9TyNVkeEekN2O/bxz2UVb8Pkn",
      "include_colab_link": true
    },
    "kernelspec": {
      "name": "python3",
      "display_name": "Python 3"
    },
    "language_info": {
      "name": "python"
    }
  },
  "cells": [
    {
      "cell_type": "markdown",
      "metadata": {
        "id": "view-in-github",
        "colab_type": "text"
      },
      "source": [
        "<a href=\"https://colab.research.google.com/github/yashpandey474/CSF425-Deep-Learning-Project-Task-2/blob/master/Task2_5_Evaluation_Metrics.ipynb\" target=\"_parent\"><img src=\"https://colab.research.google.com/assets/colab-badge.svg\" alt=\"Open In Colab\"/></a>"
      ]
    },
    {
      "cell_type": "code",
      "execution_count": null,
      "metadata": {
        "id": "soUKIo6YJlsn"
      },
      "outputs": [],
      "source": [
        "import numpy as np\n",
        "from math import log10\n",
        "\n",
        "def PSNR(img1, img2):\n",
        "    mse = np.mean((img1 - img2) ** 2)\n",
        "    if(mse == 0):  # MSE is zero means no noise is present in the signal .\n",
        "                  # Therefore PSNR have no importance.\n",
        "        return 100\n",
        "    max_pixel = 255.0\n",
        "    psnr = 10 * log10(max_pixel**2 / mse)\n",
        "    return psnr"
      ]
    },
    {
      "cell_type": "code",
      "source": [
        "from skimage.metrics import structural_similarity as ssim\n",
        "\n",
        "similarity = ssim(img1, img2)"
      ],
      "metadata": {
        "id": "DO5VZyCtJrBn"
      },
      "execution_count": null,
      "outputs": []
    },
    {
      "cell_type": "code",
      "source": [],
      "metadata": {
        "id": "Cmui-YAgJwTe"
      },
      "execution_count": null,
      "outputs": []
    }
  ]
}