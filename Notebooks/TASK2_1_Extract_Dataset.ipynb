{
  "nbformat": 4,
  "nbformat_minor": 0,
  "metadata": {
    "colab": {
      "provenance": []
    },
    "kernelspec": {
      "name": "python3",
      "display_name": "Python 3"
    },
    "language_info": {
      "name": "python"
    }
  },
  "cells": [
    {
      "cell_type": "code",
      "execution_count": 2,
      "metadata": {
        "id": "RAJ-0GZwLUfA",
        "colab": {
          "base_uri": "https://localhost:8080/"
        },
        "outputId": "bb32edef-9e17-44a7-c9ed-86dd6b505024"
      },
      "outputs": [
        {
          "output_type": "execute_result",
          "data": {
            "text/plain": [
              "115"
            ]
          },
          "metadata": {},
          "execution_count": 2
        }
      ],
      "source": [
        "import numpy as np\n",
        "import os\n",
        "import tensorflow as tf\n",
        "import torch\n",
        "import torch.optim as optim\n",
        "import torch.nn as nn\n",
        "import torch.nn.functional as F\n",
        "from torch.utils.data import Dataset, DataLoader\n",
        "from torchvision import datasets, models, transforms\n",
        "import torch.nn.init as init\n",
        "import matplotlib.pyplot as plt\n",
        "from IPython.display import Audio\n",
        "import librosa.display\n",
        "import librosa\n",
        "import zipfile\n",
        "from sklearn.preprocessing import LabelEncoder, OneHotEncoder\n",
        "from google.colab import drive\n",
        "from torch.optim import lr_scheduler\n",
        "import time\n",
        "import copy\n",
        "from PIL import Image\n",
        "from collections import Counter\n",
        "import cv2\n",
        "import gc\n",
        "\n",
        "# Clear CUDA cache and perform garbage collection\n",
        "torch.cuda.empty_cache()\n",
        "gc.collect()"
      ]
    },
    {
      "cell_type": "code",
      "source": [
        "# MOUNT GOOGLE DRIVE\n",
        "drive.mount('/content/drive')"
      ],
      "metadata": {
        "id": "X4Iu73M1PycW",
        "colab": {
          "base_uri": "https://localhost:8080/"
        },
        "outputId": "ee258799-3aea-4547-bc02-e9de1636dab6"
      },
      "execution_count": 3,
      "outputs": [
        {
          "output_type": "stream",
          "name": "stdout",
          "text": [
            "Mounted at /content/drive\n"
          ]
        }
      ]
    },
    {
      "cell_type": "markdown",
      "source": [
        "# Extract the dataset from zipfile"
      ],
      "metadata": {
        "id": "JJVI-WBfC1Li"
      }
    },
    {
      "cell_type": "code",
      "source": [
        "# Define file paths\n",
        "zip_file_path = '/content/drive/My Drive/task2_dataset.zip'\n",
        "extracted_dir_path = '/content/drive/My Drive/Task2'\n",
        "\n",
        "# Create the directory if it doesn't exist\n",
        "os.makedirs(extracted_dir_path, exist_ok=True)\n",
        "\n",
        "# Extract the zip file\n",
        "with zipfile.ZipFile(zip_file_path, 'r') as zip_ref:\n",
        "    zip_ref.extractall(extracted_dir_path)\n",
        "\n",
        "print(\"Extraction complete.\")"
      ],
      "metadata": {
        "id": "bwXmXqS8Pz6F",
        "colab": {
          "base_uri": "https://localhost:8080/"
        },
        "outputId": "ac2b6c24-29f2-4fc4-f74e-ff7ad0fe65b7"
      },
      "execution_count": 5,
      "outputs": [
        {
          "output_type": "stream",
          "name": "stdout",
          "text": [
            "Extraction complete.\n"
          ]
        }
      ]
    },
    {
      "cell_type": "code",
      "source": [
        "drive.flush_and_unmount()"
      ],
      "metadata": {
        "id": "NEYF9kOoE5jb"
      },
      "execution_count": null,
      "outputs": []
    },
    {
      "cell_type": "markdown",
      "source": [
        "# Define Training Parameters"
      ],
      "metadata": {
        "id": "sPqW6MYcD3cP"
      }
    },
    {
      "cell_type": "code",
      "source": [
        "CUDA=True\n",
        "DATA_PATH = './data'\n",
        "BATCH_SIZE = 128\n",
        "IMAGE_CHANNEL = 1\n",
        "Z_DIM = 100\n",
        "gener_hidden = 64\n",
        "X_DIM = 64\n",
        "discrm_hidden = 64\n",
        "EPOCH_NUM = 5\n",
        "REAL_LABEL = 1\n",
        "FAKE_LABEL = 0\n",
        "lr = 2e-4\n",
        "seed = 1"
      ],
      "metadata": {
        "id": "zVVUxkvsDA7P"
      },
      "execution_count": 6,
      "outputs": []
    },
    {
      "cell_type": "markdown",
      "source": [
        "# Load GPU (If Using)"
      ],
      "metadata": {
        "id": "STV4PuqMEFML"
      }
    },
    {
      "cell_type": "code",
      "source": [
        "CUDA = CUDA and torch.cuda.is_available()\n",
        "print(\"PyTorch version: {}\".format(torch.__version__))\n",
        "if CUDA:\n",
        "    print(\"CUDA version: {}\\n\".format(torch.version.cuda))\n",
        "\n",
        "if CUDA:\n",
        "    torch.cuda.manual_seed(seed)\n",
        "device = torch.device(\"cuda:0\" if CUDA else \"cpu\")\n",
        "cudnn.benchmark = True"
      ],
      "metadata": {
        "id": "B8MLhfRAD5pi"
      },
      "execution_count": null,
      "outputs": []
    },
    {
      "cell_type": "markdown",
      "source": [
        "# Load the dataset, convert to tensors & normalise to [-1, 1]"
      ],
      "metadata": {
        "id": "hgJU9b4_EJKA"
      }
    },
    {
      "cell_type": "code",
      "source": [
        "# Data preprocessing\n",
        "dataset = dset.MNIST(root=DATA_PATH, download=True,\n",
        "                     transform=transforms.Compose([\n",
        "                     transforms.Resize(X_DIM),\n",
        "                     transforms.ToTensor(),\n",
        "                     transforms.Normalize((0.5,), (0.5,))\n",
        "                     ]))\n",
        "\n",
        "# Dataloader\n",
        "dataloader = torch.utils.data.DataLoader(dataset, batch_size=BATCH_SIZE,\n",
        "                                         shuffle=True, num_workers=2)"
      ],
      "metadata": {
        "id": "jXsq9gPeEOau"
      },
      "execution_count": null,
      "outputs": []
    },
    {
      "cell_type": "markdown",
      "source": [
        "# Common Code with Any Loss function & architecture"
      ],
      "metadata": {
        "id": "9wbo3w3FFsUH"
      }
    },
    {
      "cell_type": "code",
      "source": [
        "def weights_init(m):\n",
        "    classname = m.__class__.__name__\n",
        "    if classname.find('Conv') != -1:\n",
        "        m.weight.data.normal_(0.0, 0.02)\n",
        "    elif classname.find('BatchNorm') != -1:\n",
        "        m.weight.data.normal_(1.0, 0.02)\n",
        "        m.bias.data.fill_(0)"
      ],
      "metadata": {
        "id": "KjHZFC5aF0OC"
      },
      "execution_count": null,
      "outputs": []
    },
    {
      "cell_type": "code",
      "source": [
        "# Create the generator\n",
        "netG = Generator().to(device)\n",
        "netG.apply(weights_init)\n",
        "print(netG)\n",
        "\n",
        "# Create the discriminator\n",
        "netD = Discriminator().to(device)\n",
        "netD.apply(weights_init)\n",
        "print(netD)"
      ],
      "metadata": {
        "id": "Q0QHTjSzFxxR"
      },
      "execution_count": null,
      "outputs": []
    },
    {
      "cell_type": "code",
      "source": [
        "# Training Loop\n",
        "\n",
        "# Lists to keep track of progress\n",
        "img_list = []\n",
        "G_losses = []\n",
        "D_losses = []\n",
        "iters = 0\n",
        "\n",
        "print(\"Starting Training Loop...\")\n",
        "for epoch in range(EPOCH_NUM):\n",
        "    for i, data in enumerate(dataloader, 0):\n",
        "\n",
        "        # (1) Update the discriminator with real data\n",
        "        netD.zero_grad()\n",
        "        # Format batch\n",
        "        real_cpu = data[0].to(device)\n",
        "        b_size = real_cpu.size(0)\n",
        "        label = torch.full((b_size,), REAL_LABEL, dtype=torch.float, device=device)\n",
        "        # Forward pass real batch through D\n",
        "        output = netD(real_cpu).view(-1)\n",
        "        # Calculate loss on all-real batch\n",
        "        errD_real = criterion(output, label)\n",
        "        # Calculate gradients for D in backward pass\n",
        "        errD_real.backward()\n",
        "        D_x = output.mean().item()\n",
        "\n",
        "        # (2) Update the discriminator with fake data\n",
        "        # Generate batch of latent vectors\n",
        "        noise = torch.randn(b_size, Z_DIM, 1, 1, device=device)\n",
        "        # Generate fake image batch with G\n",
        "        fake = netG(noise)\n",
        "        label.fill_(FAKE_LABEL)\n",
        "        # Classify all fake batch with D\n",
        "        output = netD(fake.detach()).view(-1)\n",
        "        # Calculate D's loss on the all-fake batch\n",
        "        errD_fake = criterion(output, label)\n",
        "        # Calculate the gradients for this batch, accumulated (summed) with previous gradients\n",
        "        errD_fake.backward()\n",
        "        D_G_z1 = output.mean().item()\n",
        "        # Compute error of D as sum over the fake and the real batches\n",
        "        errD = errD_real + errD_fake\n",
        "        # Update D\n",
        "        optimizerD.step()\n",
        "\n",
        "        # (3) Update the generator with fake data\n",
        "        netG.zero_grad()\n",
        "        label.fill_(REAL_LABEL)  # fake labels are real for generator cost\n",
        "        # Since we just updated D, perform another forward pass of all-fake batch through D\n",
        "        output = netD(fake).view(-1)\n",
        "        # Calculate G's loss based on this output\n",
        "        errG = criterion(output, label)\n",
        "        # Calculate gradients for G\n",
        "        errG.backward()\n",
        "        D_G_z2 = output.mean().item()\n",
        "        # Update G\n",
        "        optimizerG.step()\n",
        "\n",
        "        # Output training stats\n",
        "        if i % 50 == 0:\n",
        "            print('[%d/%d][%d/%d]\\tLoss_D: %.4f\\tLoss_G: %.4f\\tD(x): %.4f\\tD(G(z)): %.4f / %.4f'\n",
        "                  % (epoch, EPOCH_NUM, i, len(dataloader),\n",
        "                     errD.item(), errG.item(), D_x, D_G_z1, D_G_z2))\n",
        "\n",
        "        # Save Losses for plotting later\n",
        "        G_losses.append(errG.item())\n",
        "        D_losses.append(errD.item())\n",
        "\n",
        "        # Check how the generator is doing by saving G's output on fixed_noise\n",
        "        if (iters % 500 == 0) or ((epoch == EPOCH_NUM-1) and (i == len(dataloader)-1)):\n",
        "            with torch.no_grad():\n",
        "                fake = netG(viz_noise).detach().cpu()\n",
        "            img_list.append(vutils.make_grid(fake, padding=2, normalize=True))\n",
        "\n",
        "        iters += 1"
      ],
      "metadata": {
        "id": "KKR-VOAZESG7"
      },
      "execution_count": null,
      "outputs": []
    }
  ]
}