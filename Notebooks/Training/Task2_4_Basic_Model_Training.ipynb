{
 "cells": [
  {
   "cell_type": "code",
   "execution_count": null,
   "metadata": {
    "id": "GJYS9i_SpFr_"
   },
   "outputs": [],
   "source": [
    "import os\n",
    "import numpy as np\n",
    "import torch\n",
    "import torch.nn as nn\n",
    "import torch.backends.cudnn as cudnn\n",
    "import torch.optim as optim\n",
    "import torchvision.transforms as transforms\n",
    "import torchvision.datasets as dset\n",
    "import torchvision.utils as vutils\n",
    "import matplotlib.pyplot as plt\n",
    "from torch.utils.data import DataLoader\n",
    "from torchvision.datasets import ImageFolder\n",
    "import matplotlib.pyplot as plt\n",
    "from tqdm import tqdm\n",
    "from PIL import Image\n",
    "from google.colab import drive\n",
    "import time"
   ]
  },
  {
   "cell_type": "code",
   "execution_count": null,
   "metadata": {
    "id": "Rg7UJtR0qHdN"
   },
   "outputs": [],
   "source": [
    "drive.mount('/content/drive')"
   ]
  },
  {
   "cell_type": "code",
   "execution_count": null,
   "metadata": {
    "id": "W1Ci4PcXpFr_"
   },
   "outputs": [],
   "source": [
    "CUDA=True\n",
    "DATA_PATH = './data'\n",
    "BATCH_SIZE = 128\n",
    "IMAGE_CHANNEL = 1\n",
    "Z_DIM = 100\n",
    "gener_hidden = 64\n",
    "X_DIM = 64\n",
    "discrm_hidden = 64\n",
    "EPOCH_NUM = 5\n",
    "REAL_LABEL = 1\n",
    "FAKE_LABEL = 0\n",
    "lr = 2e-4\n",
    "seed = 1"
   ]
  },
  {
   "cell_type": "code",
   "execution_count": null,
   "metadata": {
    "colab": {
     "base_uri": "https://localhost:8080/"
    },
    "id": "F00LmO5YpFr_",
    "outputId": "d2c56f99-ed9f-4fe7-c27f-ce5de8c92791"
   },
   "outputs": [],
   "source": [
    "CUDA = CUDA and torch.cuda.is_available()\n",
    "print(\"PyTorch version: {}\".format(torch.__version__))\n",
    "if CUDA:\n",
    "    print(\"CUDA version: {}\\n\".format(torch.version.cuda))\n",
    "\n",
    "if CUDA:\n",
    "    torch.cuda.manual_seed(seed)\n",
    "device = torch.device(\"cuda:0\" if CUDA else \"cpu\")\n",
    "cudnn.benchmark = True"
   ]
  },
  {
   "cell_type": "markdown",
   "metadata": {
    "id": "o6y9z9-OsPG-"
   },
   "source": [
    "# Custom Dataset that loads images one by one"
   ]
  },
  {
   "cell_type": "code",
   "execution_count": null,
   "metadata": {
    "id": "lPBY-u98pqZ0"
   },
   "outputs": [],
   "source": [
    "# Define custom dataset class\n",
    "class CustomDataset1(torch.utils.data.Dataset):\n",
    "    def __init__(self, root_dir, transform=None):\n",
    "        self.root_dir = root_dir\n",
    "        self.transform = transform\n",
    "        self.hazy_dir = os.path.join(root_dir, 'hazy')\n",
    "        self.gt_dir = os.path.join(root_dir, 'GT')\n",
    "\n",
    "        # Get list of image filenames\n",
    "        self.image_filenames = sorted([filename for filename in os.listdir(self.hazy_dir) if filename.endswith(('.jpg', '.png'))])\n",
    "\n",
    "    def __len__(self):\n",
    "        return len(self.image_filenames)\n",
    "\n",
    "    def __getitem__(self, idx):\n",
    "        hazy_img_path = os.path.join(self.hazy_dir, self.image_filenames[idx])\n",
    "        gt_img_path = os.path.join(self.gt_dir, self.image_filenames[idx])\n",
    "\n",
    "        hazy_img = Image.open(hazy_img_path)\n",
    "        gt_img = Image.open(gt_img_path)\n",
    "\n",
    "        if self.transform:\n",
    "            hazy_img = self.transform(hazy_img)\n",
    "            gt_img = self.transform(gt_img)\n",
    "\n",
    "        return hazy_img, gt_img"
   ]
  },
  {
   "cell_type": "markdown",
   "metadata": {
    "id": "iIrEtKsysSLJ"
   },
   "source": [
    "# [Efficient] Custom Dataset that loads all images when initialised"
   ]
  },
  {
   "cell_type": "code",
   "execution_count": null,
   "metadata": {
    "id": "myCaZVmmsRx0"
   },
   "outputs": [],
   "source": [
    "class CustomDataset(torch.utils.data.Dataset):\n",
    "    def __init__(self, root_dir, transform=None):\n",
    "        self.root_dir = root_dir\n",
    "        self.transform = transform\n",
    "        self.hazy_dir = os.path.join(root_dir, 'hazy')\n",
    "        self.gt_dir = os.path.join(root_dir, 'GT')\n",
    "\n",
    "        # Get list of image filenames\n",
    "        self.image_filenames = sorted([filename for filename in os.listdir(self.hazy_dir) if filename.endswith(('.jpg', '.png'))])\n",
    "\n",
    "        # Load all images into memory\n",
    "        self.images = []\n",
    "        for filename in self.image_filenames:\n",
    "            hazy_img_path = os.path.join(self.hazy_dir, filename)\n",
    "            gt_img_path = os.path.join(self.gt_dir, filename)\n",
    "            hazy_img = Image.open(hazy_img_path)\n",
    "            gt_img = Image.open(gt_img_path)\n",
    "            self.images.append((hazy_img, gt_img))\n",
    "\n",
    "    def __len__(self):\n",
    "        return len(self.image_filenames)\n",
    "\n",
    "    def __getitem__(self, idx):\n",
    "        hazy_img, gt_img = self.images[idx]\n",
    "\n",
    "        if self.transform:\n",
    "            hazy_img = self.transform(hazy_img)\n",
    "            gt_img = self.transform(gt_img)\n",
    "\n",
    "        return hazy_img, gt_img\n"
   ]
  },
  {
   "cell_type": "code",
   "execution_count": null,
   "metadata": {
    "id": "l0zvsPwBptxi"
   },
   "outputs": [],
   "source": [
    "# Define directories\n",
    "root_dir = '/content/drive/MyDrive/Task2/Dataset'\n",
    "train_dir = os.path.join(root_dir, 'train')\n",
    "val_dir = os.path.join(root_dir, 'val')\n",
    "\n",
    "# Define dataset transformations\n",
    "transform = transforms.Compose([\n",
    "    transforms.Resize(X_DIM),\n",
    "    transforms.ToTensor(),\n",
    "    transforms.Normalize((0.5,), (0.5,))\n",
    "])\n",
    "\n",
    "# Create datasets and dataloaders\n",
    "train_dataset = CustomDataset(train_dir, transform)\n",
    "val_dataset = CustomDataset(val_dir, transform)\n",
    "train_dataloader = DataLoader(train_dataset, batch_size=32, shuffle=True, num_workers=2)\n",
    "val_dataloader = DataLoader(val_dataset, batch_size=32, shuffle=False, num_workers=2)\n"
   ]
  },
  {
   "cell_type": "code",
   "execution_count": null,
   "metadata": {
    "id": "DWZvwB-iqexN"
   },
   "outputs": [],
   "source": [
    "def visualise_samples(train_dataloader, num_samples = 5):\n",
    "  # Visualize a few samples\n",
    "  hazy_batch, gt_batch = next(iter(train_dataloader))\n",
    "\n",
    "  num_samples = 5\n",
    "  plt.figure(figsize=(15, 6))\n",
    "  for i in range(num_samples):\n",
    "      # Plot hazy image\n",
    "      plt.subplot(2, num_samples, i + 1)\n",
    "      plt.imshow(hazy_batch[i].permute(1, 2, 0))  # Permute dimensions for visualization\n",
    "      plt.title(\"Hazy Image\")\n",
    "      plt.axis(\"off\")\n",
    "\n",
    "      # Plot ground truth image\n",
    "      plt.subplot(2, num_samples, i + num_samples + 1)\n",
    "      plt.imshow(gt_batch[i].permute(1, 2, 0))  # Permute dimensions for visualization\n",
    "      plt.title(\"Ground Truth\")\n",
    "      plt.axis(\"off\")\n",
    "\n",
    "  plt.tight_layout()\n",
    "  plt.show()"
   ]
  },
  {
   "cell_type": "code",
   "execution_count": null,
   "metadata": {
    "colab": {
     "base_uri": "https://localhost:8080/",
     "height": 845
    },
    "id": "unXzp0pKrdp8",
    "outputId": "68446c9f-3dfa-445a-aec6-a6a7f2e2933a"
   },
   "outputs": [],
   "source": [
    "visualise_samples(train_dataloader, 5)"
   ]
  },
  {
   "cell_type": "code",
   "execution_count": null,
   "metadata": {
    "id": "EIM_n44hpFsA"
   },
   "outputs": [],
   "source": [
    "def weights_init(m):\n",
    "    classname = m.__class__.__name__\n",
    "    if classname.find('Conv') != -1:\n",
    "        m.weight.data.normal_(0.0, 0.02)\n",
    "    elif classname.find('BatchNorm') != -1:\n",
    "        m.weight.data.normal_(1.0, 0.02)\n",
    "        m.bias.data.fill_(0)"
   ]
  },
  {
   "cell_type": "code",
   "execution_count": null,
   "metadata": {
    "id": "gIFRQK4npFsB"
   },
   "outputs": [],
   "source": [
    "class Generator(nn.Module):\n",
    "    def __init__(self):\n",
    "        super(Generator, self).__init__()\n",
    "        self.main = nn.Sequential(\n",
    "            nn.ConvTranspose2d(Z_DIM, gener_hidden * 8, 4, 1, 0, bias=False),\n",
    "            nn.BatchNorm2d(gener_hidden * 8),\n",
    "            nn.ReLU(True),\n",
    "            nn.ConvTranspose2d(gener_hidden * 8, gener_hidden * 4, 4, 2, 1, bias=False),\n",
    "            nn.BatchNorm2d(gener_hidden * 4),\n",
    "            nn.ReLU(True),\n",
    "            nn.ConvTranspose2d(gener_hidden * 4, gener_hidden * 2, 4, 2, 1, bias=False),\n",
    "            nn.BatchNorm2d(gener_hidden * 2),\n",
    "            nn.ReLU(True),\n",
    "            nn.ConvTranspose2d(gener_hidden * 2, gener_hidden, 4, 2, 1, bias=False),\n",
    "            nn.BatchNorm2d(gener_hidden),\n",
    "            nn.ReLU(True),\n",
    "            nn.ConvTranspose2d(gener_hidden, IMAGE_CHANNEL, 4, 2, 1, bias=False),\n",
    "            nn.Tanh()\n",
    "        )\n",
    "\n",
    "    def forward(self, input):\n",
    "        return self.main(input)"
   ]
  },
  {
   "cell_type": "code",
   "execution_count": null,
   "metadata": {
    "id": "bn4ThCvIpFsB"
   },
   "outputs": [],
   "source": [
    "class Discriminator(nn.Module):\n",
    "    def __init__(self):\n",
    "        super(Discriminator, self).__init__()\n",
    "        self.main = nn.Sequential(\n",
    "            nn.Conv2d(IMAGE_CHANNEL, discrm_hidden, 4, 2, 1, bias=False),\n",
    "            nn.LeakyReLU(0.2, inplace=True),\n",
    "            nn.Conv2d(discrm_hidden, discrm_hidden * 2, 4, 2, 1, bias=False),\n",
    "            nn.BatchNorm2d(discrm_hidden * 2),\n",
    "            nn.LeakyReLU(0.2, inplace=True),\n",
    "            nn.Conv2d(discrm_hidden * 2, discrm_hidden * 4, 4, 2, 1, bias=False),\n",
    "            nn.BatchNorm2d(discrm_hidden * 4),\n",
    "            nn.LeakyReLU(0.2, inplace=True),\n",
    "            nn.Conv2d(discrm_hidden * 4, discrm_hidden * 8, 4, 2, 1, bias=False),\n",
    "            nn.BatchNorm2d(discrm_hidden * 8),\n",
    "            nn.LeakyReLU(0.2, inplace=True),\n",
    "            nn.Conv2d(discrm_hidden * 8, 1, 4, 1, 0, bias=False),\n",
    "            nn.Sigmoid()\n",
    "        )\n",
    "\n",
    "    def forward(self, input):\n",
    "        return self.main(input).view(-1, 1).squeeze(1)"
   ]
  },
  {
   "cell_type": "code",
   "execution_count": null,
   "metadata": {
    "id": "qcgMkap3pFsB"
   },
   "outputs": [],
   "source": [
    "# Create the generator\n",
    "netG = Generator().to(device)\n",
    "netG.apply(weights_init)\n",
    "print(netG)\n",
    "\n",
    "# Create the discriminator\n",
    "netD = Discriminator().to(device)\n",
    "netD.apply(weights_init)\n",
    "print(netD)"
   ]
  },
  {
   "cell_type": "code",
   "execution_count": null,
   "metadata": {
    "id": "F_eNbOADpFsB"
   },
   "outputs": [],
   "source": [
    "# Initialize BCELoss function\n",
    "criterion = nn.BCELoss()\n",
    "\n",
    "# Create batch of latent vectors that I will use to visualize the progression of the generator\n",
    "viz_noise = torch.randn(BATCH_SIZE, Z_DIM, 1, 1, device=device)\n",
    "\n",
    "# Setup Adam optimizers for both G and D\n",
    "optimizerD = optim.Adam(netD.parameters(), lr=lr, betas=(0.5, 0.999))\n",
    "optimizerG = optim.Adam(netG.parameters(), lr=lr, betas=(0.5, 0.999))"
   ]
  },
  {
   "cell_type": "code",
   "execution_count": null,
   "metadata": {
    "id": "WAGRS61XpFsB",
    "outputId": "9e22b014-a8be-4521-eefa-22ee8f4e1037"
   },
   "outputs": [],
   "source": [
    "# Training Loop\n",
    "\n",
    "# Lists to keep track of progress\n",
    "img_list = []\n",
    "G_losses = []\n",
    "D_losses = []\n",
    "iters = 0\n",
    "\n",
    "\n",
    "start_time = time.time()\n",
    "print(\"Starting Training Loop at time: \", start_time)\n",
    "\n",
    "\n",
    "for epoch in range(EPOCH_NUM):\n",
    "    for i, (hazy_images, real_images) in enumerate(train_dataloader, 0):\n",
    "\n",
    "        hazy_images = hazy_images.to(device)\n",
    "        real_images = real_images.to(device)\n",
    "\n",
    "        # Update the discriminator\n",
    "        netD.zero_grad()\n",
    "        output_real = netD(real_images).view(-1)\n",
    "        label_real = torch.full((real_images.size(0),), REAL_LABEL, device=device)\n",
    "        errD_real = criterion(output_real, label_real)\n",
    "\n",
    "        fake_images = netG(hazy_images)\n",
    "        output_fake = netD(fake_images.detach()).view(-1)\n",
    "        label_fake = torch.full((fake_images.size(0),), FAKE_LABEL, device=device)\n",
    "        errD_fake = criterion(output_fake, label_fake)\n",
    "\n",
    "        errD = errD_real + errD_fake\n",
    "        errD.backward()\n",
    "        optimizerD.step()\n",
    "\n",
    "        # Update the generator\n",
    "        netG.zero_grad()\n",
    "        output = netD(fake_images).view(-1)\n",
    "        errG = criterion(output, label_real)  # We want the fake images to be classified as real\n",
    "        errG.backward()\n",
    "        optimizerG.step()\n",
    "\n",
    "        # Output training stats\n",
    "        if i % 50 == 0:\n",
    "            elapsed_time = time.time() - start_time\n",
    "            print('[%d/%d][%d/%d]\\tLoss_D: %.4f\\tLoss_G: %.4f\\tTime: %.2f s'\n",
    "                  % (epoch, EPOCH_NUM, i, len(train_dataloader),\n",
    "                     errD.item(), errG.item(), elapsed_time))\n",
    "\n",
    "        # Save Losses for plotting later\n",
    "        G_losses.append(errG.item())\n",
    "        D_losses.append(errD.item())\n",
    "\n",
    "        # Check how the generator is doing by saving G's output on fixed_noise\n",
    "        if (iters % 500 == 0) or ((epoch == EPOCH_NUM-1) and (i == len(train_dataloader)-1)):\n",
    "            with torch.no_grad():\n",
    "                fake = netG(viz_noise).detach().cpu()\n",
    "            img_list.append(vutils.make_grid(fake, padding=2, normalize=True))\n",
    "\n",
    "        iters += 1"
   ]
  },
  {
   "cell_type": "code",
   "execution_count": null,
   "metadata": {
    "id": "JUNF4d3TpFsB",
    "outputId": "b3de0df8-a42b-4ce7-ac4e-1c123c8423a5"
   },
   "outputs": [],
   "source": [
    "# Grab a batch of real images from the dataloader\n",
    "real_batch = next(iter(dataloader))\n",
    "\n",
    "# Plot the real images\n",
    "plt.figure(figsize=(15,15))\n",
    "plt.subplot(1,2,1)\n",
    "plt.axis(\"off\")\n",
    "plt.title(\"Real Images\")\n",
    "plt.imshow(np.transpose(vutils.make_grid(real_batch[0].to(device)[:64], padding=5, normalize=True).cpu(),(1,2,0)))\n",
    "\n",
    "# Plot the fake images from the last epoch\n",
    "plt.subplot(1,2,2)\n",
    "plt.axis(\"off\")\n",
    "plt.title(\"Fake Images\")\n",
    "plt.imshow(np.transpose(img_list[-1],(1,2,0)))\n",
    "plt.show()"
   ]
  },
  {
   "cell_type": "code",
   "execution_count": null,
   "metadata": {
    "id": "gWvnQjFxpFsC"
   },
   "outputs": [],
   "source": []
  }
 ],
 "metadata": {
  "colab": {
   "provenance": []
  },
  "kernelspec": {
   "display_name": "Python 3",
   "language": "python",
   "name": "python3"
  },
  "language_info": {
   "codemirror_mode": {
    "name": "ipython",
    "version": 3
   },
   "file_extension": ".py",
   "mimetype": "text/x-python",
   "name": "python",
   "nbconvert_exporter": "python",
   "pygments_lexer": "ipython3",
   "version": "3.12.2"
  }
 },
 "nbformat": 4,
 "nbformat_minor": 0
}
